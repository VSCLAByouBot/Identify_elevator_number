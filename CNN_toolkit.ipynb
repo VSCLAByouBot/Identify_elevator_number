{
  "nbformat": 4,
  "nbformat_minor": 0,
  "metadata": {
    "colab": {
      "name": "CNN_toolkit.ipynb",
      "provenance": [],
      "collapsed_sections": [],
      "authorship_tag": "ABX9TyNd9Cb8xCKunYtm7TJ5rxFJ",
      "include_colab_link": true
    },
    "kernelspec": {
      "name": "python3",
      "display_name": "Python 3"
    },
    "accelerator": "GPU"
  },
  "cells": [
    {
      "cell_type": "markdown",
      "metadata": {
        "id": "view-in-github",
        "colab_type": "text"
      },
      "source": [
        "<a href=\"https://colab.research.google.com/github/VSCLAByouBot/Identify_elevator_number/blob/main/CNN_toolkit.ipynb\" target=\"_parent\"><img src=\"https://colab.research.google.com/assets/colab-badge.svg\" alt=\"Open In Colab\"/></a>"
      ]
    },
    {
      "cell_type": "code",
      "metadata": {
        "id": "w2SGqp9CdQ5Z"
      },
      "source": [
        "from keras.models import Sequential, load_model\n",
        "from keras.layers import Dense, Dropout, Flatten, Conv2D, MaxPool2D, AveragePooling2D\n",
        "from keras.utils import np_utils\n",
        "from keras.utils.vis_utils import plot_model\n",
        "from keras.datasets import mnist\n",
        "from tensorflow.keras.optimizers import Adam\n",
        "import matplotlib.pyplot as plt\n",
        "import pandas as pd"
      ],
      "execution_count": null,
      "outputs": []
    },
    {
      "cell_type": "code",
      "metadata": {
        "id": "VPN3y5l-db2a"
      },
      "source": [
        "# Mnist Dataset\n",
        "(X_train, Y_train), (X_test, Y_test) = mnist.load_data()\n",
        "x_train = X_train.reshape(60000, 28, 28, 1)/255\n",
        "x_test = X_test.reshape(10000, 28, 28, 1)/255\n",
        "y_train = np_utils.to_categorical(Y_train)\n",
        "y_test = np_utils.to_categorical(Y_test)"
      ],
      "execution_count": null,
      "outputs": []
    },
    {
      "cell_type": "code",
      "metadata": {
        "colab": {
          "base_uri": "https://localhost:8080/"
        },
        "id": "bGP8d3U3dcco",
        "outputId": "0638fbf7-8844-41e4-ab8d-cfa9da60792b"
      },
      "source": [
        "acc,val_acc = [],[]\n",
        "loss_list,val_loss_list = [],[]\n",
        "lr= 0.001\n",
        "# Model Structure\n",
        "model = Sequential()\n",
        "model.add(Conv2D(filters=6, kernel_size=5, input_shape=(28, 28, 1), activation='sigmoid', padding='VALID'))\n",
        "model.add(AveragePooling2D(pool_size=2, data_format='channels_last'))\n",
        "model.add(Conv2D(filters=12, kernel_size=5, input_shape=(12, 12, 1), activation='sigmoid', padding='VALID'))\n",
        "model.add(AveragePooling2D(pool_size=2, data_format='channels_last'))\n",
        "model.add(Flatten())\n",
        "model.add(Dense(10, activation='sigmoid'))\n",
        "print(model.summary())\n",
        "\n",
        "# Train\n",
        "opt = Adam(learning_rate=lr)\n",
        "# opt = keras.optimizers.Adam(learning_rate=0.01)\n",
        "model.compile(loss='categorical_crossentropy', optimizer=opt, metrics=['accuracy'])\n",
        "h1 = model.fit(x_train, y_train, epochs=25, batch_size=64, verbose=1,validation_data=(x_test,y_test))\n",
        "\n",
        "# Test\n",
        "loss, accuracy = model.evaluate(x_test, y_test)\n",
        "print('Test:')\n",
        "print('Loss: %s\\nAccuracy: %s' % (loss, accuracy))\n",
        "acc.append(h1.history['accuracy'])\n",
        "val_acc.append(h1.history['val_accuracy'])\n",
        "loss_list.append(h1.history['loss'])\n",
        "val_loss_list.append(h1.history['val_loss'])"
      ],
      "execution_count": null,
      "outputs": [
        {
          "output_type": "stream",
          "name": "stdout",
          "text": [
            "Model: \"sequential_6\"\n",
            "_________________________________________________________________\n",
            "Layer (type)                 Output Shape              Param #   \n",
            "=================================================================\n",
            "conv2d_12 (Conv2D)           (None, 24, 24, 6)         156       \n",
            "_________________________________________________________________\n",
            "average_pooling2d_12 (Averag (None, 12, 12, 6)         0         \n",
            "_________________________________________________________________\n",
            "conv2d_13 (Conv2D)           (None, 8, 8, 12)          1812      \n",
            "_________________________________________________________________\n",
            "average_pooling2d_13 (Averag (None, 4, 4, 12)          0         \n",
            "_________________________________________________________________\n",
            "flatten_6 (Flatten)          (None, 192)               0         \n",
            "_________________________________________________________________\n",
            "dense_6 (Dense)              (None, 10)                1930      \n",
            "=================================================================\n",
            "Total params: 3,898\n",
            "Trainable params: 3,898\n",
            "Non-trainable params: 0\n",
            "_________________________________________________________________\n",
            "None\n",
            "Epoch 1/25\n",
            "938/938 [==============================] - 5s 5ms/step - loss: 1.1929 - accuracy: 0.6323 - val_loss: 0.4320 - val_accuracy: 0.8817\n",
            "Epoch 2/25\n",
            "938/938 [==============================] - 5s 5ms/step - loss: 0.3736 - accuracy: 0.8943 - val_loss: 0.3036 - val_accuracy: 0.9136\n",
            "Epoch 3/25\n",
            "938/938 [==============================] - 5s 5ms/step - loss: 0.2939 - accuracy: 0.9144 - val_loss: 0.2552 - val_accuracy: 0.9255\n",
            "Epoch 4/25\n",
            "938/938 [==============================] - 5s 5ms/step - loss: 0.2504 - accuracy: 0.9263 - val_loss: 0.2292 - val_accuracy: 0.9346\n",
            "Epoch 5/25\n",
            "938/938 [==============================] - 5s 5ms/step - loss: 0.2178 - accuracy: 0.9367 - val_loss: 0.1900 - val_accuracy: 0.9441\n",
            "Epoch 6/25\n",
            "938/938 [==============================] - 5s 5ms/step - loss: 0.1908 - accuracy: 0.9450 - val_loss: 0.1654 - val_accuracy: 0.9485\n",
            "Epoch 7/25\n",
            "938/938 [==============================] - 5s 5ms/step - loss: 0.1689 - accuracy: 0.9518 - val_loss: 0.1472 - val_accuracy: 0.9557\n",
            "Epoch 8/25\n",
            "938/938 [==============================] - 4s 5ms/step - loss: 0.1501 - accuracy: 0.9571 - val_loss: 0.1290 - val_accuracy: 0.9623\n",
            "Epoch 9/25\n",
            "938/938 [==============================] - 4s 5ms/step - loss: 0.1347 - accuracy: 0.9616 - val_loss: 0.1184 - val_accuracy: 0.9663\n",
            "Epoch 10/25\n",
            "938/938 [==============================] - 5s 5ms/step - loss: 0.1213 - accuracy: 0.9657 - val_loss: 0.1056 - val_accuracy: 0.9694\n",
            "Epoch 11/25\n",
            "938/938 [==============================] - 5s 5ms/step - loss: 0.1112 - accuracy: 0.9684 - val_loss: 0.0953 - val_accuracy: 0.9723\n",
            "Epoch 12/25\n",
            "938/938 [==============================] - 5s 5ms/step - loss: 0.1028 - accuracy: 0.9709 - val_loss: 0.0892 - val_accuracy: 0.9739\n",
            "Epoch 13/25\n",
            "938/938 [==============================] - 4s 5ms/step - loss: 0.0953 - accuracy: 0.9723 - val_loss: 0.0828 - val_accuracy: 0.9754\n",
            "Epoch 14/25\n",
            "938/938 [==============================] - 5s 5ms/step - loss: 0.0893 - accuracy: 0.9739 - val_loss: 0.0785 - val_accuracy: 0.9781\n",
            "Epoch 15/25\n",
            "938/938 [==============================] - 5s 5ms/step - loss: 0.0844 - accuracy: 0.9755 - val_loss: 0.0721 - val_accuracy: 0.9781\n",
            "Epoch 16/25\n",
            "938/938 [==============================] - 5s 5ms/step - loss: 0.0799 - accuracy: 0.9769 - val_loss: 0.0740 - val_accuracy: 0.9779\n",
            "Epoch 17/25\n",
            "938/938 [==============================] - 4s 5ms/step - loss: 0.0762 - accuracy: 0.9773 - val_loss: 0.0654 - val_accuracy: 0.9803\n",
            "Epoch 18/25\n",
            "938/938 [==============================] - 5s 5ms/step - loss: 0.0728 - accuracy: 0.9787 - val_loss: 0.0625 - val_accuracy: 0.9815\n",
            "Epoch 19/25\n",
            "938/938 [==============================] - 5s 5ms/step - loss: 0.0700 - accuracy: 0.9790 - val_loss: 0.0613 - val_accuracy: 0.9820\n",
            "Epoch 20/25\n",
            "938/938 [==============================] - 5s 5ms/step - loss: 0.0669 - accuracy: 0.9805 - val_loss: 0.0638 - val_accuracy: 0.9818\n",
            "Epoch 21/25\n",
            "938/938 [==============================] - 5s 5ms/step - loss: 0.0647 - accuracy: 0.9812 - val_loss: 0.0578 - val_accuracy: 0.9836\n",
            "Epoch 22/25\n",
            "938/938 [==============================] - 4s 5ms/step - loss: 0.0627 - accuracy: 0.9818 - val_loss: 0.0598 - val_accuracy: 0.9827\n",
            "Epoch 23/25\n",
            "938/938 [==============================] - 5s 5ms/step - loss: 0.0606 - accuracy: 0.9819 - val_loss: 0.0514 - val_accuracy: 0.9849\n",
            "Epoch 24/25\n",
            "938/938 [==============================] - 5s 5ms/step - loss: 0.0587 - accuracy: 0.9828 - val_loss: 0.0512 - val_accuracy: 0.9843\n",
            "Epoch 25/25\n",
            "938/938 [==============================] - 5s 5ms/step - loss: 0.0572 - accuracy: 0.9831 - val_loss: 0.0533 - val_accuracy: 0.9844\n",
            "313/313 [==============================] - 1s 3ms/step - loss: 0.0533 - accuracy: 0.9844\n",
            "Test:\n",
            "Loss: 0.05331356078386307\n",
            "Accuracy: 0.9843999743461609\n"
          ]
        }
      ]
    },
    {
      "cell_type": "code",
      "metadata": {
        "colab": {
          "base_uri": "https://localhost:8080/",
          "height": 312
        },
        "id": "R0jBeU-vdhBa",
        "outputId": "90651e8c-c7a0-4a52-e73e-70c9f53efbfe"
      },
      "source": [
        "plt.subplot(211)\n",
        "plt.plot(acc[0], '-',  label='Tr:lr=0.001')\n",
        "plt.plot(val_acc[0], '-',  label='Val:lr=0.001')\n",
        "#plt.plot(acc[1], '-',  label='Tr:lr=0.01')\n",
        "#plt.plot(val_acc[1], '-',  label='Val:lr=0.01')\n",
        "plt.legend(loc='lower right', shadow=True) \n",
        "plt.xlabel('Epoch')\n",
        "plt.ylabel('Accuracy')\n",
        "plt.title('Model Accuracy')\n",
        "\n",
        "plt.subplot(212)\n",
        "plt.plot(loss_list[0], '-',  label='Tr:lr=0.001')\n",
        "plt.plot(val_loss_list[0], '-',  label='Val:lr=0.001')\n",
        "#plt.plot(loss_list[1], '-',  label='Tr:lr=0.01')\n",
        "#plt.plot(val_loss_list[1], '-',  label='Val:lr=0.01')\n",
        "plt.legend(loc='upper right', shadow=True) \n",
        "plt.xlabel('Epoch')\n",
        "plt.ylabel('Loss')\n",
        "plt.title('Model loss')"
      ],
      "execution_count": null,
      "outputs": [
        {
          "output_type": "execute_result",
          "data": {
            "text/plain": [
              "Text(0.5, 1.0, 'Model loss')"
            ]
          },
          "metadata": {},
          "execution_count": 137
        },
        {
          "output_type": "display_data",
          "data": {
            "image/png": "[encoded data removed]",
            "text/plain": [
              "<Figure size 432x288 with 2 Axes>"
            ]
          },
          "metadata": {
            "needs_background": "light"
          }
        }
      ]
    },
    {
      "cell_type": "code",
      "metadata": {
        "id": "uhOVQcYG3ZWj"
      },
      "source": [
        "'''\n",
        "#transfer learning\n",
        "acc,val_acc = [],[]\n",
        "loss_list,val_loss_list = [],[]\n",
        "lr= [0.01,0.001]\n",
        "for i in range(2):\n",
        "  model.pop()\n",
        "  for layer in model.layers:\n",
        "      layer.trainable = False\n",
        "\n",
        "  model.add(Dense(30, activation='sigmoid'))\n",
        "  model.add(Dense(10, activation='sigmoid'))\n",
        "  model.summary()\n",
        "  # Train\n",
        "  opt = Adam(learning_rate=lr[i])\n",
        "  model.compile(loss='categorical_crossentropy', optimizer=opt, metrics=['accuracy'])\n",
        "  h2 = model.fit(x_train, y_train, epochs=10, batch_size=64, verbose=1,validation_data=(x_test,y_test))\n",
        "  # Test\n",
        "  loss, accuracy = model.evaluate(x_test, y_test)\n",
        "  print('Test:')\n",
        "  print('Loss: %s\\nAccuracy: %s' % (loss, accuracy))\n",
        "  acc.append(h2.history['accuracy'])\n",
        "  val_acc.append(h2.history['val_accuracy'])\n",
        "  loss_list.append(h2.history['loss'])\n",
        "  val_loss_list.append(h2.history['val_loss'])\n",
        "'''"
      ],
      "execution_count": null,
      "outputs": []
    },
    {
      "cell_type": "code",
      "metadata": {
        "id": "f--W8xAIB-Ek"
      },
      "source": [
        "'''\n",
        "plt.subplot(211)\n",
        "plt.plot(acc[0], '-',  label='Tr:lr=0.01')\n",
        "plt.plot(val_acc[0], '-',  label='Val:lr=0.01')\n",
        "plt.plot(acc[1], '-',  label='Tr:lr=0.001')\n",
        "plt.plot(val_acc[1], '-',  label='Val:lr=0.001')\n",
        "plt.legend(loc='lower right', shadow=True) \n",
        "plt.xlabel('Epoch')\n",
        "plt.ylabel('Accuracy')\n",
        "plt.title('Model Accuracy')\n",
        "\n",
        "plt.subplot(212)\n",
        "plt.plot(loss_list[0], '-',  label='Tr:lr=0.01')\n",
        "plt.plot(val_loss_list[0], '-',  label='Val:lr=0.01')\n",
        "plt.plot(loss_list[1], '-',  label='Tr:lr=0.001')\n",
        "plt.plot(val_loss_list[1], '-',  label='Val:lr=0.001')\n",
        "plt.legend(loc='upper right', shadow=True) \n",
        "plt.xlabel('Epoch')\n",
        "plt.ylabel('Loss')\n",
        "plt.title('Model loss')\n",
        "'''"
      ],
      "execution_count": null,
      "outputs": []
    },
    {
      "cell_type": "code",
      "metadata": {
        "colab": {
          "resources": {
            "http://localhost:8080/nbextensions/google.colab/files.js": {
              "data": "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",
              "ok": true,
              "headers": [
                [
                  "content-type",
                  "application/javascript"
                ]
              ],
              "status": 200,
              "status_text": "OK"
            }
          },
          "base_uri": "https://localhost:8080/",
          "height": 79
        },
        "id": "c2ckb4aCQ27X",
        "outputId": "2d94fd5b-0bbe-4792-eac6-1f2230174f5d"
      },
      "source": [
        "from google.colab import files\n",
        "uploaded = files.upload()"
      ],
      "execution_count": null,
      "outputs": [
        {
          "output_type": "display_data",
          "data": {
            "text/html": [
              "\n",
              "     <input type=\"file\" id=\"files-f3f0160f-7f52-48e2-98ee-4273bba9d601\" name=\"files[]\" multiple disabled\n",
              "        style=\"border:none\" />\n",
              "     <output id=\"result-f3f0160f-7f52-48e2-98ee-4273bba9d601\">\n",
              "      Upload widget is only available when the cell has been executed in the\n",
              "      current browser session. Please rerun this cell to enable.\n",
              "      </output>\n",
              "      <script src=\"/nbextensions/google.colab/files.js\"></script> "
            ],
            "text/plain": [
              "<IPython.core.display.HTML object>"
            ]
          },
          "metadata": {}
        },
        {
          "output_type": "stream",
          "name": "stdout",
          "text": [
            "Saving number-9.jpg to number-9.jpg\n"
          ]
        }
      ]
    },
    {
      "cell_type": "code",
      "metadata": {
        "colab": {
          "base_uri": "https://localhost:8080/",
          "height": 184
        },
        "id": "BkI93Oj7RRMU",
        "outputId": "62fa45d0-655f-47ff-82a8-82becb6839b4"
      },
      "source": [
        "import numpy as np\n",
        "import cv2\n",
        "from google.colab.patches import cv2_imshow\n",
        "img = cv2.imread('number-5.jpg', cv2.IMREAD_GRAYSCALE)\n",
        "\n",
        "# detect circles in the image\n",
        "circles = cv2.HoughCircles(img, cv2.HOUGH_GRADIENT, 1.2, 100, param1=100, param2=30, minRadius=100, maxRadius=400)\n",
        "print(circles)\n",
        "# ensure at least some circles were found\n",
        "if circles is not None:\n",
        "\tx = circles[0, 0, 0]\n",
        "\ty = circles[0, 0, 1]\n",
        "\tr = circles[0, 0, 2]\n",
        "\tprint(\"r\", r)\n",
        "\t# convert the (x, y) coordinates and radius of the circles to integers\n",
        "\tcircles = np.round(circles[0, :]).astype(\"int\")\n",
        "\t# loop over the pixel and if the pixel is outside the circle, keep it a black pixel\n",
        "\tfor i in range(img.shape[0]):\n",
        "\t\tfor j in range(img.shape[1]):\n",
        "\t\t\tif ((i-x)**2 + (j-y)**2 >= (r-1)**2):\n",
        "\t\t\t\timg[i,j] = 0\n",
        "# resize the image size the same as mnist\n",
        "img = cv2.resize(img, (28, 28), interpolation=cv2.INTER_AREA)\n",
        "cv2_imshow(img)\n",
        "image = img.reshape(1, 28, 28, 1)/255\n",
        "predict = model.predict(image)\n",
        "print(predict)\n",
        "print(\"The number is: \", np.argmax(predict))"
      ],
      "execution_count": null,
      "outputs": [
        {
          "output_type": "stream",
          "name": "stdout",
          "text": [
            "(512, 512)\n",
            "[[[255.00002 256.2     249.64   ]\n",
            "  [252.6     359.40002 146.2    ]]]\n",
            "r 249.64\n"
          ]
        },
        {
          "output_type": "display_data",
          "data": {
            "image/png": "[encoded data removed]",
            "text/plain": [
              "<PIL.Image.Image image mode=L size=28x28 at 0x7FE0102F3310>"
            ]
          },
          "metadata": {}
        },
        {
          "output_type": "stream",
          "name": "stdout",
          "text": [
            "[[6.37274832e-02 1.02478916e-04 2.69952957e-02 2.50257015e-01\n",
            "  6.98398426e-02 8.13812375e-01 8.49281996e-03 1.27524883e-01\n",
            "  1.35039240e-01 8.59601021e-01]]\n",
            "The number is:  9\n"
          ]
        }
      ]
    }
  ]
}